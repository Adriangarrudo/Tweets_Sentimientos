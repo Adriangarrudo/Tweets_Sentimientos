{
 "cells": [
  {
   "cell_type": "markdown",
   "id": "11572846",
   "metadata": {},
   "source": [
    "# Práctica final. Fundamentos de tratamiento de datos para Data Science"
   ]
  },
  {
   "cell_type": "markdown",
   "id": "d1931e30",
   "metadata": {},
   "source": [
    " Adrián Garrudo Antona"
   ]
  },
  {
   "cell_type": "markdown",
   "id": "b620840e",
   "metadata": {},
   "source": [
    "## Ejercicio 1. Análisis de sentimientos de tweets\n",
    "Ejercicio en el que procesamos dos archivos, uno que contiene tweets y otro que contiene palabras puntuadas según el positivismo de su significado. El objetivo es puntuar cada tweet sumando el valor de los sentimientos de cada palabra que contiene."
   ]
  },
  {
   "cell_type": "markdown",
   "id": "ada368f0",
   "metadata": {},
   "source": [
    "## 1.1 Librerías"
   ]
  },
  {
   "cell_type": "code",
   "execution_count": 18,
   "id": "63c0a682",
   "metadata": {},
   "outputs": [],
   "source": [
    "import pandas as pd\n",
    "import re\n",
    "import json "
   ]
  },
  {
   "cell_type": "markdown",
   "id": "292b60a8",
   "metadata": {},
   "source": [
    "## 1.2 Carga y procesado de tweets"
   ]
  },
  {
   "cell_type": "markdown",
   "id": "3b98dd17",
   "metadata": {},
   "source": [
    "Dentro del documento tweets hay mucha información de cada publicación, para acceder a el texto debemos cargar el txt y procesarlo como un json dentro de una lista, la lista \"tweets\" contiene cada línea del texto. Luego generamo filtramos la información ya que la variable \"delete\" que se encuentra dentro del json no nos interesa. Por último recorremos la lista filtrada y lo convertimos en un dataframe con el que trabajaremos de forma más cómoda. Se muestra en pantalla el resultado de los 5 primeros tweets."
   ]
  },
  {
   "cell_type": "code",
   "execution_count": 19,
   "id": "3966d9c1",
   "metadata": {},
   "outputs": [
    {
     "data": {
      "text/html": [
       "<div>\n",
       "<style scoped>\n",
       "    .dataframe tbody tr th:only-of-type {\n",
       "        vertical-align: middle;\n",
       "    }\n",
       "\n",
       "    .dataframe tbody tr th {\n",
       "        vertical-align: top;\n",
       "    }\n",
       "\n",
       "    .dataframe thead th {\n",
       "        text-align: right;\n",
       "    }\n",
       "</style>\n",
       "<table border=\"1\" class=\"dataframe\">\n",
       "  <thead>\n",
       "    <tr style=\"text-align: right;\">\n",
       "      <th></th>\n",
       "      <th>tweets</th>\n",
       "    </tr>\n",
       "  </thead>\n",
       "  <tbody>\n",
       "    <tr>\n",
       "      <th>0</th>\n",
       "      <td>@Brenamae_ I WHALE SLAP YOUR FIN AND TELL YOU ...</td>\n",
       "    </tr>\n",
       "    <tr>\n",
       "      <th>1</th>\n",
       "      <td>Metin Şentürk Twitterda @metinsenturk MUHTEŞEM...</td>\n",
       "    </tr>\n",
       "    <tr>\n",
       "      <th>2</th>\n",
       "      <td>RT @byunghns: 😭 I LOVE #틴탑 SO MUCH #쉽지않아 IS GO...</td>\n",
       "    </tr>\n",
       "    <tr>\n",
       "      <th>3</th>\n",
       "      <td>que hdp maicon lo que le hizo a david luiz jaj...</td>\n",
       "    </tr>\n",
       "    <tr>\n",
       "      <th>4</th>\n",
       "      <td>ドライ！！！！！！！！！！！！！！！！！！！！！！！！！！！！！！！！！！！</td>\n",
       "    </tr>\n",
       "  </tbody>\n",
       "</table>\n",
       "</div>"
      ],
      "text/plain": [
       "                                              tweets\n",
       "0  @Brenamae_ I WHALE SLAP YOUR FIN AND TELL YOU ...\n",
       "1  Metin Şentürk Twitterda @metinsenturk MUHTEŞEM...\n",
       "2  RT @byunghns: 😭 I LOVE #틴탑 SO MUCH #쉽지않아 IS GO...\n",
       "3  que hdp maicon lo que le hizo a david luiz jaj...\n",
       "4             ドライ！！！！！！！！！！！！！！！！！！！！！！！！！！！！！！！！！！！"
      ]
     },
     "execution_count": 19,
     "metadata": {},
     "output_type": "execute_result"
    }
   ],
   "source": [
    "txt = open('tweets.txt')\n",
    "    \n",
    "tweets_ = []\n",
    "\n",
    "for line in txt :\n",
    "    tweets_.append(json.loads(line))\n",
    "    \n",
    "contenido = []\n",
    "\n",
    "bruto = [ tweet for tweet in tweets_ if 'delete' not in tweet ]\n",
    "    \n",
    "for linea_ in bruto:\n",
    "    contenido.append(linea_['text'])\n",
    "tweets=pd.DataFrame(contenido)\n",
    "\n",
    "tweets.columns=['tweets']\n",
    "\n",
    "tweets.head(5)"
   ]
  },
  {
   "cell_type": "markdown",
   "id": "3324ff53",
   "metadata": {},
   "source": [
    "Procesamos los tweets para poder trtabajar con ellos sin que nos produzcan errores. Las modificaciones pasan por convertir todo a minúsculas, también eliminamos los signos de puntuación para que al tokenizar no lo procese como un token, también eliminamos números ya que buscamos palabras que impliquen sentimientos y eliminamos los dobles espacios en blanco"
   ]
  },
  {
   "cell_type": "code",
   "execution_count": 12,
   "id": "2c400c89",
   "metadata": {},
   "outputs": [
    {
     "data": {
      "text/html": [
       "<div>\n",
       "<style scoped>\n",
       "    .dataframe tbody tr th:only-of-type {\n",
       "        vertical-align: middle;\n",
       "    }\n",
       "\n",
       "    .dataframe tbody tr th {\n",
       "        vertical-align: top;\n",
       "    }\n",
       "\n",
       "    .dataframe thead th {\n",
       "        text-align: right;\n",
       "    }\n",
       "</style>\n",
       "<table border=\"1\" class=\"dataframe\">\n",
       "  <thead>\n",
       "    <tr style=\"text-align: right;\">\n",
       "      <th></th>\n",
       "      <th>tweets</th>\n",
       "      <th>texto_tokenizado</th>\n",
       "    </tr>\n",
       "  </thead>\n",
       "  <tbody>\n",
       "    <tr>\n",
       "      <th>0</th>\n",
       "      <td>@Brenamae_ I WHALE SLAP YOUR FIN AND TELL YOU ...</td>\n",
       "      <td>[, brenamae, i, whale, slap, your, fin, and, t...</td>\n",
       "    </tr>\n",
       "    <tr>\n",
       "      <th>1</th>\n",
       "      <td>Metin Şentürk Twitterda @metinsenturk MUHTEŞEM...</td>\n",
       "      <td>[metin, şentürk, twitterda, metinsenturk, muht...</td>\n",
       "    </tr>\n",
       "    <tr>\n",
       "      <th>2</th>\n",
       "      <td>RT @byunghns: 😭 I LOVE #틴탑 SO MUCH #쉽지않아 IS GO...</td>\n",
       "      <td>[rt, byunghns, 😭, i, love, 틴탑, so, much, 쉽지않아,...</td>\n",
       "    </tr>\n",
       "    <tr>\n",
       "      <th>3</th>\n",
       "      <td>que hdp maicon lo que le hizo a david luiz jaj...</td>\n",
       "      <td>[que, hdp, maicon, lo, que, le, hizo, a, david...</td>\n",
       "    </tr>\n",
       "    <tr>\n",
       "      <th>4</th>\n",
       "      <td>ドライ！！！！！！！！！！！！！！！！！！！！！！！！！！！！！！！！！！！</td>\n",
       "      <td>[ドライ！！！！！！！！！！！！！！！！！！！！！！！！！！！！！！！！！！！]</td>\n",
       "    </tr>\n",
       "  </tbody>\n",
       "</table>\n",
       "</div>"
      ],
      "text/plain": [
       "                                              tweets  \\\n",
       "0  @Brenamae_ I WHALE SLAP YOUR FIN AND TELL YOU ...   \n",
       "1  Metin Şentürk Twitterda @metinsenturk MUHTEŞEM...   \n",
       "2  RT @byunghns: 😭 I LOVE #틴탑 SO MUCH #쉽지않아 IS GO...   \n",
       "3  que hdp maicon lo que le hizo a david luiz jaj...   \n",
       "4             ドライ！！！！！！！！！！！！！！！！！！！！！！！！！！！！！！！！！！！   \n",
       "\n",
       "                                    texto_tokenizado  \n",
       "0  [, brenamae, i, whale, slap, your, fin, and, t...  \n",
       "1  [metin, şentürk, twitterda, metinsenturk, muht...  \n",
       "2  [rt, byunghns, 😭, i, love, 틴탑, so, much, 쉽지않아,...  \n",
       "3  [que, hdp, maicon, lo, que, le, hizo, a, david...  \n",
       "4           [ドライ！！！！！！！！！！！！！！！！！！！！！！！！！！！！！！！！！！！]  "
      ]
     },
     "execution_count": 12,
     "metadata": {},
     "output_type": "execute_result"
    }
   ],
   "source": [
    "def procesar_tweet(tweet):\n",
    "\n",
    "    proceso = tweet.lower()\n",
    "    regex = '[\\\\!\\\\\"\\\\#\\\\$\\\\%\\\\&\\\\\\'\\\\(\\\\)\\\\*\\\\+\\\\,\\\\-\\\\.\\\\/\\\\:\\\\;\\\\<\\\\=\\\\>\\\\?\\\\@\\\\[\\\\\\\\\\\\]\\\\^_\\\\`\\\\{\\\\|\\\\}\\\\~]'\n",
    "    proceso = re.sub(regex , ' ', proceso)\n",
    "    proceso = re.sub(\"\\d+\", ' ', proceso)\n",
    "    proceso = re.sub(\"\\\\s+\", ' ', proceso)\n",
    "    proceso = proceso.split(sep = ' ')\n",
    "    \n",
    "    return(proceso)\n",
    "\n",
    "tweets['texto_tokenizado'] = tweets['tweets'].apply(lambda x: procesar_tweet(x))\n",
    "tweets[['tweets', 'texto_tokenizado']].head()"
   ]
  },
  {
   "cell_type": "markdown",
   "id": "b6e6fc31",
   "metadata": {},
   "source": [
    "## 1.3 Carga de sentimientos"
   ]
  },
  {
   "cell_type": "code",
   "execution_count": 5,
   "id": "dbe1f4d1",
   "metadata": {},
   "outputs": [
    {
     "data": {
      "text/html": [
       "<div>\n",
       "<style scoped>\n",
       "    .dataframe tbody tr th:only-of-type {\n",
       "        vertical-align: middle;\n",
       "    }\n",
       "\n",
       "    .dataframe tbody tr th {\n",
       "        vertical-align: top;\n",
       "    }\n",
       "\n",
       "    .dataframe thead th {\n",
       "        text-align: right;\n",
       "    }\n",
       "</style>\n",
       "<table border=\"1\" class=\"dataframe\">\n",
       "  <thead>\n",
       "    <tr style=\"text-align: right;\">\n",
       "      <th></th>\n",
       "      <th>palabra</th>\n",
       "      <th>puntos</th>\n",
       "    </tr>\n",
       "  </thead>\n",
       "  <tbody>\n",
       "    <tr>\n",
       "      <th>0</th>\n",
       "      <td>abandoned</td>\n",
       "      <td>-2</td>\n",
       "    </tr>\n",
       "    <tr>\n",
       "      <th>1</th>\n",
       "      <td>abandons</td>\n",
       "      <td>-2</td>\n",
       "    </tr>\n",
       "    <tr>\n",
       "      <th>2</th>\n",
       "      <td>abducted</td>\n",
       "      <td>-2</td>\n",
       "    </tr>\n",
       "    <tr>\n",
       "      <th>3</th>\n",
       "      <td>abduction</td>\n",
       "      <td>-2</td>\n",
       "    </tr>\n",
       "    <tr>\n",
       "      <th>4</th>\n",
       "      <td>abductions</td>\n",
       "      <td>-2</td>\n",
       "    </tr>\n",
       "  </tbody>\n",
       "</table>\n",
       "</div>"
      ],
      "text/plain": [
       "      palabra  puntos\n",
       "0   abandoned      -2\n",
       "1    abandons      -2\n",
       "2    abducted      -2\n",
       "3   abduction      -2\n",
       "4  abductions      -2"
      ]
     },
     "execution_count": 5,
     "metadata": {},
     "output_type": "execute_result"
    }
   ],
   "source": [
    "sentimientost= pd.read_table('sentimientos.txt')\n",
    "sentimientos=pd.DataFrame(sentimientost)\n",
    "sentimientos.columns=[\"palabra\",\"puntos\"]\n",
    "sentimientos.head()"
   ]
  },
  {
   "cell_type": "markdown",
   "id": "35743252",
   "metadata": {},
   "source": [
    "## 1.4 Dataframe final"
   ]
  },
  {
   "cell_type": "markdown",
   "id": "dc17ccca",
   "metadata": {},
   "source": [
    "Separamos cada tweet en palabras, cada palabra es una fila del dataframe.\n",
    "También hacemos un join para unir el dataframe de los tweets y el de los sentimientos, de esta manera tendremos el dataframe final \"tweets_final\".\n",
    "Agrupamamos el dataframe por tweets y sumamos los puntos de las distintas palabras que pertenecen a cada tweet.\n",
    "Por último, eliminamos los tweets que tengan una puntuación de cero puntos."
   ]
  },
  {
   "cell_type": "code",
   "execution_count": 6,
   "id": "019f60b1",
   "metadata": {},
   "outputs": [
    {
     "data": {
      "text/html": [
       "<div>\n",
       "<style scoped>\n",
       "    .dataframe tbody tr th:only-of-type {\n",
       "        vertical-align: middle;\n",
       "    }\n",
       "\n",
       "    .dataframe tbody tr th {\n",
       "        vertical-align: top;\n",
       "    }\n",
       "\n",
       "    .dataframe thead th {\n",
       "        text-align: right;\n",
       "    }\n",
       "</style>\n",
       "<table border=\"1\" class=\"dataframe\">\n",
       "  <thead>\n",
       "    <tr style=\"text-align: right;\">\n",
       "      <th></th>\n",
       "      <th>tweets</th>\n",
       "      <th>puntos</th>\n",
       "    </tr>\n",
       "  </thead>\n",
       "  <tbody>\n",
       "    <tr>\n",
       "      <th>8</th>\n",
       "      <td>#RT If you Like.... I'm Online Now! http://t.c...</td>\n",
       "      <td>2.0</td>\n",
       "    </tr>\n",
       "    <tr>\n",
       "      <th>13</th>\n",
       "      <td>-\\nQUEIMAR A LINGUA NO CAFÉ &amp;amp; UMA DAS PIOR...</td>\n",
       "      <td>-1.0</td>\n",
       "    </tr>\n",
       "    <tr>\n",
       "      <th>22</th>\n",
       "      <td>@Aurinth I think it's possible, and sometimes ...</td>\n",
       "      <td>2.0</td>\n",
       "    </tr>\n",
       "    <tr>\n",
       "      <th>31</th>\n",
       "      <td>@JessicaFappit and the winner of the best lunc...</td>\n",
       "      <td>7.0</td>\n",
       "    </tr>\n",
       "    <tr>\n",
       "      <th>32</th>\n",
       "      <td>@Mugsy4Fly LOL! But she's a famous twitter per...</td>\n",
       "      <td>5.0</td>\n",
       "    </tr>\n",
       "  </tbody>\n",
       "</table>\n",
       "</div>"
      ],
      "text/plain": [
       "                                               tweets  puntos\n",
       "8   #RT If you Like.... I'm Online Now! http://t.c...     2.0\n",
       "13  -\\nQUEIMAR A LINGUA NO CAFÉ &amp; UMA DAS PIOR...    -1.0\n",
       "22  @Aurinth I think it's possible, and sometimes ...     2.0\n",
       "31  @JessicaFappit and the winner of the best lunc...     7.0\n",
       "32  @Mugsy4Fly LOL! But she's a famous twitter per...     5.0"
      ]
     },
     "execution_count": 6,
     "metadata": {},
     "output_type": "execute_result"
    }
   ],
   "source": [
    "tweets_tok = tweets.explode(column='texto_tokenizado')\n",
    "tweets_left = pd.merge(\n",
    "                            left     = tweets_tok,\n",
    "                            right    = sentimientos,\n",
    "                            left_on  = \"texto_tokenizado\", \n",
    "                            right_on = \"palabra\",\n",
    "                            how      = \"left\"\n",
    "                      )\n",
    "\n",
    "tweets_final = tweets_left[[\"tweets\",\"texto_tokenizado\", \"palabra\", \"puntos\"]] \\\n",
    "                      .groupby([\"tweets\"])\\\n",
    "                      .sum('puntos').reset_index()\n",
    "\n",
    "                \n",
    "tweets_final= tweets_final[tweets_final['puntos']!=0]\n",
    "tweets_final.head()\n"
   ]
  },
  {
   "cell_type": "markdown",
   "id": "a432bab7",
   "metadata": {},
   "source": [
    "## 1.5 Respuesta final ejercicio 1"
   ]
  },
  {
   "cell_type": "code",
   "execution_count": 7,
   "id": "fcfb92ab",
   "metadata": {},
   "outputs": [
    {
     "name": "stdout",
     "output_type": "stream",
     "text": [
      "ESTE TWEET: #RT If you Like.... I'm Online Now! http://t.co/kHSChu3jzz http://t.co/5LLtvleFU6 TIENE UN SENTIMIENTO TOTAL DE 2.0 PUNTOS\n",
      "ESTE TWEET: -\n",
      "QUEIMAR A LINGUA NO CAFÉ &amp; UMA DAS PIORES COISAS :( :'( :( TIENE UN SENTIMIENTO TOTAL DE -1.0 PUNTOS\n",
      "ESTE TWEET: @Aurinth I think it's possible, and sometimes scenes like that can work as long as they're bookended by some sort of development. TIENE UN SENTIMIENTO TOTAL DE 2.0 PUNTOS\n",
      "ESTE TWEET: @JessicaFappit and the winner of the best lunchtime.visual goes to,,,,,,, TIENE UN SENTIMIENTO TOTAL DE 7.0 PUNTOS\n",
      "ESTE TWEET: @Mugsy4Fly LOL! But she's a famous twitter personality!!! (It was over Sarah Palin,who I really like - but don't think should run for POTUS) TIENE UN SENTIMIENTO TOTAL DE 5.0 PUNTOS\n",
      "ESTE TWEET: @Pplschamp2310 At the very least. Her body count has certainly caused the most problems for the club. #SonsOfAnarchy TIENE UN SENTIMIENTO TOTAL DE -2.0 PUNTOS\n",
      "ESTE TWEET: @RenoiDuVillage lol tavais grail a la cantine d'où t'étais max frr ?! TIENE UN SENTIMIENTO TOTAL DE 3.0 PUNTOS\n",
      "ESTE TWEET: @Ru_ru50 ill beat that ass 19 times tonight 😉😏😘 TIENE UN SENTIMIENTO TOTAL DE -6.0 PUNTOS\n",
      "ESTE TWEET: @SingleJoCoffee I like to think i do everything like a rebellious poet..... TIENE UN SENTIMIENTO TOTAL DE 4.0 PUNTOS\n",
      "ESTE TWEET: @Spartacat1 @Strykr916 @HoldfastGames HA *points and laughs* :P TIENE UN SENTIMIENTO TOTAL DE 3.0 PUNTOS\n",
      "ESTE TWEET: @hailee_danielsx I'm not mean cuz I'm ugly so ya TIENE UN SENTIMIENTO TOTAL DE -3.0 PUNTOS\n",
      "ESTE TWEET: @m_d__ha I can't believe this 😭 TIENE UN SENTIMIENTO TOTAL DE 2.0 PUNTOS\n",
      "ESTE TWEET: @nialls_lovexz @aMeezys_wiFey_ murgaa LOL\n",
      "hahaha TIENE UN SENTIMIENTO TOTAL DE 6.0 PUNTOS\n",
      "ESTE TWEET: @rihanna miss ya TIENE UN SENTIMIENTO TOTAL DE -2.0 PUNTOS\n",
      "ESTE TWEET: @thequintavious is unbelievable. Unbelievable how talented this kid is. TIENE UN SENTIMIENTO TOTAL DE -2.0 PUNTOS\n",
      "ESTE TWEET: @yomaira98x dude u have no idea how funny it was 😂 TIENE UN SENTIMIENTO TOTAL DE 3.0 PUNTOS\n",
      "ESTE TWEET: Being with you is like having every single one of my wishes come true. TIENE UN SENTIMIENTO TOTAL DE 5.0 PUNTOS\n",
      "ESTE TWEET: Best person in the world.💕🌎🌻👯 http://t.co/nwuiiHLU07 TIENE UN SENTIMIENTO TOTAL DE 3.0 PUNTOS\n",
      "ESTE TWEET: Dear downstairs neighbros: 1:00 PM on a Wednesday is generally agreed upon as time not meant for turning up. But nice try. TIENE UN SENTIMIENTO TOTAL DE 6.0 PUNTOS\n",
      "ESTE TWEET: DroidDia prime. Top Android Flow Chart Apps http://t.co/sQ9a2LH1AB #android  #app TIENE UN SENTIMIENTO TOTAL DE 2.0 PUNTOS\n",
      "ESTE TWEET: Happy Birthday to Robbie , @arsenalfantv you offer excellent insight &amp; coverage on The Mighty Arsenal hope you continue to expand &amp; Innovate TIENE UN SENTIMIENTO TOTAL DE 10.0 PUNTOS\n",
      "ESTE TWEET: I liked a @YouTube video from @jordzcreations http://t.co/YJhzCimXHG TOP 5 RATED PLAYERS IN FIFA15! (MESSI, RONALDO &amp; IBRA!) TIENE UN SENTIMIENTO TOTAL DE 4.0 PUNTOS\n",
      "ESTE TWEET: I thought I would be happy by now TIENE UN SENTIMIENTO TOTAL DE 3.0 PUNTOS\n",
      "ESTE TWEET: I took this preachers sign last year and god willing I'll do it again. TIENE UN SENTIMIENTO TOTAL DE 1.0 PUNTOS\n",
      "ESTE TWEET: I was busy being naked in the forest!!! RT @FieryDaemon: You haven't spoken to your brother yet??? The hell is wrong with you??? TIENE UN SENTIMIENTO TOTAL DE -6.0 PUNTOS\n",
      "ESTE TWEET: Is this not the best idea we've thought of yet? #Dominos #Sandwich http://t.co/KYIBYZW9aV TIENE UN SENTIMIENTO TOTAL DE 3.0 PUNTOS\n",
      "ESTE TWEET: Just waking up in the morning gotta thank G O D ❤️❤️❤️❤️❤️🙏🙏 TIENE UN SENTIMIENTO TOTAL DE 2.0 PUNTOS\n",
      "ESTE TWEET: Like omg 😍😍😍 TIENE UN SENTIMIENTO TOTAL DE 2.0 PUNTOS\n",
      "ESTE TWEET: Lost my headphones , my day is over 😤😤 TIENE UN SENTIMIENTO TOTAL DE -3.0 PUNTOS\n",
      "ESTE TWEET: Need to get this fresh trim.. Can’t be boarding plane to more looking like struggle TIENE UN SENTIMIENTO TOTAL DE 1.0 PUNTOS\n",
      "ESTE TWEET: No olvide nada, solo deje de lado lo que ya no tenía arreglo👌 TIENE UN SENTIMIENTO TOTAL DE -2.0 PUNTOS\n",
      "ESTE TWEET: No trato de ser mejor que nadie, trato de ser lo mejor que te ha sucedido en la vida. TIENE UN SENTIMIENTO TOTAL DE 1.0 PUNTOS\n",
      "ESTE TWEET: Paint the town this weekend at @supercrawl! It’s easy to get to there with GO. http://t.co/2Zz0z72zDz #Supercrawl2014 http://t.co/rsQpACFL77 TIENE UN SENTIMIENTO TOTAL DE 1.0 PUNTOS\n",
      "ESTE TWEET: People at my school think being gay is a choice but if being gay really is a choice why do most gay people including me want to die? pt.1 TIENE UN SENTIMIENTO TOTAL DE -2.0 PUNTOS\n",
      "ESTE TWEET: RT @9GAG: My mood depends on how good my hair looks. TIENE UN SENTIMIENTO TOTAL DE 1.0 PUNTOS\n",
      "ESTE TWEET: RT @Aliciabissiri: C'est dommage qu'elle dise a tout le monde que ça va pas durer... Sauf à Vivian.. #SS8 TIENE UN SENTIMIENTO TOTAL DE -2.0 PUNTOS\n",
      "ESTE TWEET: RT @BestofCancer: #Cancer needs sincerity. TIENE UN SENTIMIENTO TOTAL DE 1.0 PUNTOS\n",
      "ESTE TWEET: RT @BieberAnnual: Retweet if you want to gain just follow everyone who retweets this and follow back who ever follows you TIENE UN SENTIMIENTO TOTAL DE 3.0 PUNTOS\n",
      "ESTE TWEET: RT @C_Rivers24: @Calvinminds11 I'm honestly just chilling dude 😌 TIENE UN SENTIMIENTO TOTAL DE -1.0 PUNTOS\n",
      "ESTE TWEET: RT @ChochoMartinez1: Cami mientras me cagaba a pedo ,  la abrazaba y no la dejaba ir jajajajaja n.n TIENE UN SENTIMIENTO TOTAL DE -1.0 PUNTOS\n",
      "ESTE TWEET: RT @Elvinelol: World of #Warcraft Raiding Lengths by Expansion #WoW #PvE http://t.co/IKOKe02Heo TIENE UN SENTIMIENTO TOTAL DE 4.0 PUNTOS\n",
      "ESTE TWEET: RT @Gabriele_Corno: Natural History Museum @ London by Richard Beresford Harris #architecture #Prospective http://t.co/cWiBisJQDr TIENE UN SENTIMIENTO TOTAL DE 1.0 PUNTOS\n",
      "ESTE TWEET: RT @JackAllTimeLow: I am drunk in my cab and @5SOS came on radio. I came too TIENE UN SENTIMIENTO TOTAL DE -2.0 PUNTOS\n",
      "ESTE TWEET: RT @JeremiahTaylorr: happy birthday @MeghanNally ❤️❤️ imysm i found this in my dropbox😂😂 http://t.co/NEFZJVWs6I TIENE UN SENTIMIENTO TOTAL DE 3.0 PUNTOS\n",
      "ESTE TWEET: RT @KirkJTorrance: Cat's out of the bag! \"@WilliamJHague: giving Scotland more powers if it votes No is not Government policy\" http://t.co/… TIENE UN SENTIMIENTO TOTAL DE -1.0 PUNTOS\n",
      "ESTE TWEET: RT @LeoQuotez: #Leo's are adventurous because boredom is like a punishment TIENE UN SENTIMIENTO TOTAL DE 4.0 PUNTOS\n",
      "ESTE TWEET: RT @Louis_Tomlinson: The support for the new album and Fireproof has been amazing ! So so excited for you all to hear more ! Loveeeee TIENE UN SENTIMIENTO TOTAL DE 9.0 PUNTOS\n",
      "ESTE TWEET: RT @NKsubs: Leeteuk: Yeaaa (gets up)\n",
      "Kangin: Hyung, sit down. Really\n",
      "Heechul: Don't be like that to my friend! TIENE UN SENTIMIENTO TOTAL DE 2.0 PUNTOS\n",
      "ESTE TWEET: RT @Nashgrier: Good morning 😁 TIENE UN SENTIMIENTO TOTAL DE 3.0 PUNTOS\n",
      "ESTE TWEET: RT @Nashgrier: Happy Birthday to one of my best friends @jackgilinsky Can't wait till you're out in LA! Have a good one! TIENE UN SENTIMIENTO TOTAL DE 9.0 PUNTOS\n",
      "ESTE TWEET: RT @Nashgrier: Happy birthday @tfionash I love you soooo much! Thank you for everything, you have no idea how much you mean to me. Hope it'… TIENE UN SENTIMIENTO TOTAL DE 9.0 PUNTOS\n",
      "ESTE TWEET: RT @Oso_GlodUp: Lol That Boy Young Thug Snapped On Kevin Gates , Them Niggas Gone Kill Each Other ! TIENE UN SENTIMIENTO TOTAL DE -5.0 PUNTOS\n",
      "ESTE TWEET: RT @PoetryPix: Retweet this tweet for a chance to win a small Lokai Bracelet. MUST BE FOLLOWING. Ends September 24th. http://t.co/C1lrUAsFlg TIENE UN SENTIMIENTO TOTAL DE 6.0 PUNTOS\n",
      "ESTE TWEET: RT @TanPajeras: Pobre, se cree sirena y no llega a bagre. TIENE UN SENTIMIENTO TOTAL DE -1.0 PUNTOS\n",
      "ESTE TWEET: RT @Tarunvijay: Popularly known as \"Mahakavi Bharathiyar\", he wrote on glory of the Tamil language, and odes to freedom fighters Tilak, Gan… TIENE UN SENTIMIENTO TOTAL DE 4.0 PUNTOS\n",
      "ESTE TWEET: RT @augusto_rando: Si no sabías qué es la inflación ahora lo sabés http://t.co/7Hu1sjGnMh TIENE UN SENTIMIENTO TOTAL DE -1.0 PUNTOS\n",
      "ESTE TWEET: RT @byunghns: 😭 I LOVE #틴탑 SO MUCH #쉽지않아 IS GOING TO BE SO GOOD 😭 TIENE UN SENTIMIENTO TOTAL DE 6.0 PUNTOS\n",
      "ESTE TWEET: RT @connpost: #Milford school janitor arrested for leaving gifts, notes for student http://t.co/rjv7HybuFG TIENE UN SENTIMIENTO TOTAL DE -3.0 PUNTOS\n",
      "ESTE TWEET: RT @cthagod: I keep making the mistake of talking to people who don't know what they are talking about....... TIENE UN SENTIMIENTO TOTAL DE -2.0 PUNTOS\n",
      "ESTE TWEET: RT @disneywords: Dreams are as real as you want them to be. Dreams are as real as the sky and the sea. –Peter Pan (Disney Dreams) TIENE UN SENTIMIENTO TOTAL DE 4.0 PUNTOS\n",
      "ESTE TWEET: RT @eglobalinfo: eGlobal Solutions | Coming Soon http://t.co/c6nGXQlVI1 TIENE UN SENTIMIENTO TOTAL DE 1.0 PUNTOS\n",
      "ESTE TWEET: RT @euhanjung: \"@salvado10903734: http://t.co/BiZbCQ0QJR\"~ Abandon greed~ TIENE UN SENTIMIENTO TOTAL DE -3.0 PUNTOS\n",
      "ESTE TWEET: RT @jmfmoran: Qué buena idea llamar al FBI. Total, EEUU no abusa de países a los que da ayuda policial, ¿cierto Colombia y México? http://t… TIENE UN SENTIMIENTO TOTAL DE -1.0 PUNTOS\n",
      "ESTE TWEET: RT @katyperry: Don't forget @hernameisbanks debut record GODDESS came out today &amp; it is MAGNIFICENT! https://t.co/Ja42jyk9X7 #dontfuckwitha… TIENE UN SENTIMIENTO TOTAL DE -1.0 PUNTOS\n",
      "ESTE TWEET: RT @laercioSoficial: ▬▬▬▬ஜ۩۞۩ஜ▬▬▬▬\n",
      "★#CONNECT THE #WORLD★\n",
      "☑️INTEGRATION ☑️TEAM\n",
      "☀#TEAMFREE #FREE\n",
      "▬▬▬▬ஜ۩۞۩ஜ▬▬▬▬\n",
      "#TFBJP  @Retweetsjp TIENE UN SENTIMIENTO TOTAL DE 3.0 PUNTOS\n",
      "ESTE TWEET: RT @onlyxibest: @LvBradshaw @Monarch544 it will be the highlight of my week #wino 🍷 TIENE UN SENTIMIENTO TOTAL DE 2.0 PUNTOS\n",
      "ESTE TWEET: Real shit http://t.co/3sQK6ILWq7 TIENE UN SENTIMIENTO TOTAL DE -4.0 PUNTOS\n",
      "ESTE TWEET: Sneezing like hell TIENE UN SENTIMIENTO TOTAL DE -2.0 PUNTOS\n",
      "ESTE TWEET: Thank god for the GR skywalk!! #lakersthatdontwanttogetwet TIENE UN SENTIMIENTO TOTAL DE 3.0 PUNTOS\n",
      "ESTE TWEET: That's the downside of evening shift. When you work that day, your whole day revolves around it. TIENE UN SENTIMIENTO TOTAL DE -2.0 PUNTOS\n",
      "ESTE TWEET: Ur sick bud TIENE UN SENTIMIENTO TOTAL DE -2.0 PUNTOS\n",
      "ESTE TWEET: WHY DOES MADDIE NEED LIKE A BAJILLION 5SOS SONGS. I AM LITERALLY THE ONE RESPONSIBLE TO GET THEm. TIENE UN SENTIMIENTO TOTAL DE 4.0 PUNTOS\n",
      "ESTE TWEET: We’re very proud to host tonight's “Evening With The Mayor” event at the Greystone Mansion. We are looking forward to seeing you there! TIENE UN SENTIMIENTO TOTAL DE 2.0 PUNTOS\n",
      "ESTE TWEET: When she says the dick gets better every time,,,,,,, I have no choice but to do the \"daddy got stroke dance\" a hahahaha TIENE UN SENTIMIENTO TOTAL DE -3.0 PUNTOS\n",
      "ESTE TWEET: Why waste you time on someone when they don't give you any of their time TIENE UN SENTIMIENTO TOTAL DE -1.0 PUNTOS\n",
      "ESTE TWEET: You better believe your beautiful TIENE UN SENTIMIENTO TOTAL DE 5.0 PUNTOS\n",
      "ESTE TWEET: things are hard TIENE UN SENTIMIENTO TOTAL DE -1.0 PUNTOS\n",
      "ESTE TWEET: xxx vids: Lovely chick Cameron Love hardcore teen sex #porn #followback #teen #itunes http://t.co/Sz4pcQ4L6n TIENE UN SENTIMIENTO TOTAL DE 6.0 PUNTOS\n"
     ]
    }
   ],
   "source": [
    "respuesta=[]\n",
    "for i in tweets_final.index: \n",
    "    print(\"ESTE TWEET: \" + tweets_final[\"tweets\"][i] + \" TIENE UN SENTIMIENTO TOTAL DE \"+str(tweets_final[\"puntos\"][i])+str(\" PUNTOS\"))"
   ]
  },
  {
   "cell_type": "markdown",
   "id": "1529e4f8",
   "metadata": {},
   "source": [
    "## Ejercicio 2\n",
    "Este problema es una continuación del anterior, vamos a asociar el valor de cada tweet a las palabras que no son sentimientos definidos por el archivo \"sentimientos\""
   ]
  },
  {
   "cell_type": "markdown",
   "id": "48710d2d",
   "metadata": {},
   "source": [
    "## 2.1 Volvemos a procesar el dataframe para ajustarlo al ejercicio"
   ]
  },
  {
   "cell_type": "markdown",
   "id": "c38940da",
   "metadata": {},
   "source": [
    "Vamos a darle a las palabras que no estan en \"sentimientos\" la puntuación que tenga el tweet completo."
   ]
  },
  {
   "cell_type": "code",
   "execution_count": 13,
   "id": "2399d13f",
   "metadata": {},
   "outputs": [],
   "source": [
    "tweets_final['texto_tokenizado'] = tweets_final['tweets'].apply(lambda x: procesar_tweet(x))\n",
    "tweets_final[['tweets', 'texto_tokenizado']].head()\n",
    "tweets_final_tok = tweets_final.explode(column='texto_tokenizado')\n",
    "tweets_final_tok.rename(columns={'texto_tokenizado': 'palabra'},\n",
    "                        inplace=True)\n",
    "\n",
    "tweets_final_tok = tweets_final_tok.drop(['tweets'], axis=1)\n",
    "tweets_final_tok.duplicated()\n",
    "tweets_final_tok = tweets_final_tok.drop_duplicates()\n"
   ]
  },
  {
   "cell_type": "markdown",
   "id": "3c667699",
   "metadata": {},
   "source": [
    "## 2.2 Coincidencias entre dataframe"
   ]
  },
  {
   "cell_type": "markdown",
   "id": "e1ba89d3",
   "metadata": {},
   "source": [
    "Realizamos un bucle anidado en el que recorremos los elementos concretos de cada dataframe, buscamos coincidencias entre los sentimientos y las palabras que han dado el valor a los tweets, por último, borramos las palabras que estén en sentimientos "
   ]
  },
  {
   "cell_type": "code",
   "execution_count": 15,
   "id": "e198c387",
   "metadata": {},
   "outputs": [],
   "source": [
    "for i in sentimientos['palabra']:\n",
    "   for j in tweets_final_tok['palabra']:\n",
    "       if(i==j):\n",
    "           tweets_final_tok.drop(tweets_final_tok.loc[tweets_final_tok['palabra']== i].index, inplace=True)"
   ]
  },
  {
   "cell_type": "markdown",
   "id": "08ca8ac2",
   "metadata": {},
   "source": [
    "## Respuesta final ejercicio 2"
   ]
  },
  {
   "cell_type": "code",
   "execution_count": 16,
   "id": "b04345d9",
   "metadata": {},
   "outputs": [
    {
     "name": "stdout",
     "output_type": "stream",
     "text": [
      "LA PALABRA  aurinth TIENE 2.0 PUNTOS\n",
      "LA PALABRA  think TIENE 2.0 PUNTOS\n",
      "LA PALABRA  it TIENE 2.0 PUNTOS\n",
      "LA PALABRA  s TIENE 2.0 PUNTOS\n",
      "LA PALABRA  possible TIENE 2.0 PUNTOS\n",
      "LA PALABRA  and TIENE 2.0 PUNTOS\n",
      "LA PALABRA  sometimes TIENE 2.0 PUNTOS\n",
      "LA PALABRA  scenes TIENE 2.0 PUNTOS\n",
      "LA PALABRA  that TIENE 2.0 PUNTOS\n",
      "LA PALABRA  can TIENE 2.0 PUNTOS\n",
      "LA PALABRA  work TIENE 2.0 PUNTOS\n",
      "LA PALABRA  as TIENE 2.0 PUNTOS\n",
      "LA PALABRA  long TIENE 2.0 PUNTOS\n",
      "LA PALABRA  they TIENE 2.0 PUNTOS\n",
      "LA PALABRA  re TIENE 2.0 PUNTOS\n",
      "LA PALABRA  bookended TIENE 2.0 PUNTOS\n",
      "LA PALABRA  by TIENE 2.0 PUNTOS\n",
      "LA PALABRA  some TIENE 2.0 PUNTOS\n",
      "LA PALABRA  sort TIENE 2.0 PUNTOS\n",
      "LA PALABRA  of TIENE 2.0 PUNTOS\n",
      "LA PALABRA  development TIENE 2.0 PUNTOS\n",
      "LA PALABRA  is TIENE 3.0 PUNTOS\n",
      "LA PALABRA  this TIENE 3.0 PUNTOS\n",
      "LA PALABRA  not TIENE 3.0 PUNTOS\n",
      "LA PALABRA  we TIENE 3.0 PUNTOS\n",
      "LA PALABRA  ve TIENE 3.0 PUNTOS\n",
      "LA PALABRA  of TIENE 3.0 PUNTOS\n",
      "LA PALABRA  yet TIENE 3.0 PUNTOS\n",
      "LA PALABRA  dominos TIENE 3.0 PUNTOS\n",
      "LA PALABRA  sandwich TIENE 3.0 PUNTOS\n",
      "LA PALABRA  kyibyzw TIENE 3.0 PUNTOS\n",
      "LA PALABRA  av TIENE 3.0 PUNTOS\n",
      "LA PALABRA  omg TIENE 2.0 PUNTOS\n",
      "LA PALABRA  😍😍😍 TIENE 2.0 PUNTOS\n",
      "LA PALABRA  chochomartinez TIENE -1.0 PUNTOS\n",
      "LA PALABRA  cami TIENE -1.0 PUNTOS\n",
      "LA PALABRA  mientras TIENE -1.0 PUNTOS\n",
      "LA PALABRA  me TIENE -1.0 PUNTOS\n",
      "LA PALABRA  cagaba TIENE -1.0 PUNTOS\n",
      "LA PALABRA  pedo TIENE -1.0 PUNTOS\n",
      "LA PALABRA  la TIENE -1.0 PUNTOS\n",
      "LA PALABRA  abrazaba TIENE -1.0 PUNTOS\n",
      "LA PALABRA  y TIENE -1.0 PUNTOS\n",
      "LA PALABRA  dejaba TIENE -1.0 PUNTOS\n",
      "LA PALABRA  ir TIENE -1.0 PUNTOS\n",
      "LA PALABRA  jajajajaja TIENE -1.0 PUNTOS\n",
      "LA PALABRA  n TIENE -1.0 PUNTOS\n",
      "LA PALABRA  jeremiahtaylorr TIENE 3.0 PUNTOS\n",
      "LA PALABRA  birthday TIENE 3.0 PUNTOS\n",
      "LA PALABRA  meghannally TIENE 3.0 PUNTOS\n",
      "LA PALABRA  ❤️❤️ TIENE 3.0 PUNTOS\n",
      "LA PALABRA  imysm TIENE 3.0 PUNTOS\n",
      "LA PALABRA  found TIENE 3.0 PUNTOS\n",
      "LA PALABRA  my TIENE 3.0 PUNTOS\n",
      "LA PALABRA  dropbox😂😂 TIENE 3.0 PUNTOS\n",
      "LA PALABRA  nefzjvws TIENE 3.0 PUNTOS\n",
      "LA PALABRA  kirkjtorrance TIENE -1.0 PUNTOS\n",
      "LA PALABRA  cat TIENE -1.0 PUNTOS\n",
      "LA PALABRA  s TIENE -1.0 PUNTOS\n",
      "LA PALABRA  out TIENE -1.0 PUNTOS\n",
      "LA PALABRA  of TIENE -1.0 PUNTOS\n",
      "LA PALABRA  the TIENE -1.0 PUNTOS\n",
      "LA PALABRA  bag TIENE -1.0 PUNTOS\n",
      "LA PALABRA  williamjhague TIENE -1.0 PUNTOS\n",
      "LA PALABRA  giving TIENE -1.0 PUNTOS\n",
      "LA PALABRA  scotland TIENE -1.0 PUNTOS\n",
      "LA PALABRA  more TIENE -1.0 PUNTOS\n",
      "LA PALABRA  powers TIENE -1.0 PUNTOS\n",
      "LA PALABRA  if TIENE -1.0 PUNTOS\n",
      "LA PALABRA  it TIENE -1.0 PUNTOS\n",
      "LA PALABRA  votes TIENE -1.0 PUNTOS\n",
      "LA PALABRA  is TIENE -1.0 PUNTOS\n",
      "LA PALABRA  not TIENE -1.0 PUNTOS\n",
      "LA PALABRA  government TIENE -1.0 PUNTOS\n",
      "LA PALABRA  policy TIENE -1.0 PUNTOS\n",
      "LA PALABRA  http TIENE -1.0 PUNTOS\n",
      "LA PALABRA  t TIENE -1.0 PUNTOS\n",
      "LA PALABRA  co TIENE -1.0 PUNTOS\n",
      "LA PALABRA  … TIENE -1.0 PUNTOS\n",
      "LA PALABRA  nksubs TIENE 2.0 PUNTOS\n",
      "LA PALABRA  leeteuk TIENE 2.0 PUNTOS\n",
      "LA PALABRA  yeaaa TIENE 2.0 PUNTOS\n",
      "LA PALABRA  gets TIENE 2.0 PUNTOS\n",
      "LA PALABRA  kangin TIENE 2.0 PUNTOS\n",
      "LA PALABRA  hyung TIENE 2.0 PUNTOS\n",
      "LA PALABRA  sit TIENE 2.0 PUNTOS\n",
      "LA PALABRA  down TIENE 2.0 PUNTOS\n",
      "LA PALABRA  really TIENE 2.0 PUNTOS\n",
      "LA PALABRA  heechul TIENE 2.0 PUNTOS\n",
      "LA PALABRA  don TIENE 2.0 PUNTOS\n",
      "LA PALABRA  be TIENE 2.0 PUNTOS\n",
      "LA PALABRA  to TIENE 2.0 PUNTOS\n",
      "LA PALABRA  my TIENE 2.0 PUNTOS\n",
      "LA PALABRA  friend TIENE 2.0 PUNTOS\n",
      "LA PALABRA  tanpajeras TIENE -1.0 PUNTOS\n",
      "LA PALABRA  pobre TIENE -1.0 PUNTOS\n",
      "LA PALABRA  se TIENE -1.0 PUNTOS\n",
      "LA PALABRA  cree TIENE -1.0 PUNTOS\n",
      "LA PALABRA  sirena TIENE -1.0 PUNTOS\n",
      "LA PALABRA  llega TIENE -1.0 PUNTOS\n",
      "LA PALABRA  bagre TIENE -1.0 PUNTOS\n",
      "LA PALABRA  augusto TIENE -1.0 PUNTOS\n",
      "LA PALABRA  rando TIENE -1.0 PUNTOS\n",
      "LA PALABRA  si TIENE -1.0 PUNTOS\n",
      "LA PALABRA  sabías TIENE -1.0 PUNTOS\n",
      "LA PALABRA  qué TIENE -1.0 PUNTOS\n",
      "LA PALABRA  es TIENE -1.0 PUNTOS\n",
      "LA PALABRA  inflación TIENE -1.0 PUNTOS\n",
      "LA PALABRA  ahora TIENE -1.0 PUNTOS\n",
      "LA PALABRA  lo TIENE -1.0 PUNTOS\n",
      "LA PALABRA  sabés TIENE -1.0 PUNTOS\n",
      "LA PALABRA  hu TIENE -1.0 PUNTOS\n",
      "LA PALABRA  sjgnmh TIENE -1.0 PUNTOS\n",
      "LA PALABRA  jmfmoran TIENE -1.0 PUNTOS\n",
      "LA PALABRA  buena TIENE -1.0 PUNTOS\n",
      "LA PALABRA  idea TIENE -1.0 PUNTOS\n",
      "LA PALABRA  llamar TIENE -1.0 PUNTOS\n",
      "LA PALABRA  al TIENE -1.0 PUNTOS\n",
      "LA PALABRA  fbi TIENE -1.0 PUNTOS\n",
      "LA PALABRA  total TIENE -1.0 PUNTOS\n",
      "LA PALABRA  eeuu TIENE -1.0 PUNTOS\n",
      "LA PALABRA  abusa TIENE -1.0 PUNTOS\n",
      "LA PALABRA  de TIENE -1.0 PUNTOS\n",
      "LA PALABRA  países TIENE -1.0 PUNTOS\n",
      "LA PALABRA  los TIENE -1.0 PUNTOS\n",
      "LA PALABRA  que TIENE -1.0 PUNTOS\n",
      "LA PALABRA  da TIENE -1.0 PUNTOS\n",
      "LA PALABRA  ayuda TIENE -1.0 PUNTOS\n",
      "LA PALABRA  policial TIENE -1.0 PUNTOS\n",
      "LA PALABRA  ¿cierto TIENE -1.0 PUNTOS\n",
      "LA PALABRA  colombia TIENE -1.0 PUNTOS\n",
      "LA PALABRA  méxico TIENE -1.0 PUNTOS\n",
      "LA PALABRA  t… TIENE -1.0 PUNTOS\n"
     ]
    }
   ],
   "source": [
    "for indice, fila in tweets_final_tok.iterrows(): \n",
    "     print(\"LA PALABRA \", fila['palabra'], \"TIENE\", fila['puntos'], \"PUNTOS\")\n"
   ]
  },
  {
   "cell_type": "code",
   "execution_count": null,
   "id": "fc81961b",
   "metadata": {},
   "outputs": [],
   "source": []
  }
 ],
 "metadata": {
  "kernelspec": {
   "display_name": "Python 3",
   "language": "python",
   "name": "python3"
  },
  "language_info": {
   "codemirror_mode": {
    "name": "ipython",
    "version": 3
   },
   "file_extension": ".py",
   "mimetype": "text/x-python",
   "name": "python",
   "nbconvert_exporter": "python",
   "pygments_lexer": "ipython3",
   "version": "3.8.8"
  }
 },
 "nbformat": 4,
 "nbformat_minor": 5
}
